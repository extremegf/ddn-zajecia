{
 "cells": [
  {
   "cell_type": "markdown",
   "metadata": {
    "deletable": true,
    "editable": true
   },
   "source": [
    "# Softmax regression\n",
    "\n",
    "In this exercise you will train a softmax regression model to recognize handwritten digits.\n",
    "  \n",
    "The general setup is as follows:\n",
    "* we are given a set of pairs $(x, y)$, where $x \\in R^D$ is a vector of real numbers representing the features, and $y \\in \\{1,...,c\\}$ is the target (in our case we have ten classes, so $c=10$),\n",
    "* for a given $x$ we model the probability of $y=j$ by $$h(x)_j=p_j = \\frac{e^{w_j^Tx}}{\\sum_{i=1}^c e^{w_i^Tx}},$$\n",
    "* to find the right $w$ we will optimize the so called multiclass log loss:\n",
    "$$L(y,p) = \\log{p_y},$$\n",
    "$$J(w) = -\\frac{1}{n}\\sum_{i=1}^n L(y_i,h(x)),$$\n",
    "* with the loss function in hand we can improve our guesses iteratively:\n",
    "    * $w_{ij}^{t+1} = w_{ij}^t - \\text{step_size} \\cdot \\frac{\\partial J(w)}{\\partial w_{ij}}$,\n",
    "* we can end the process after some predefined number of epochs (or when the changes are no longer meaningful)."
   ]
  },
  {
   "cell_type": "markdown",
   "metadata": {
    "deletable": true,
    "editable": true
   },
   "source": [
    "Let's start with importing the MNIST dataset. For convenience, let's use Google's script from TensorFlow tutorial."
   ]
  },
  {
   "cell_type": "code",
   "execution_count": 4,
   "metadata": {
    "collapsed": true,
    "deletable": true,
    "editable": true
   },
   "outputs": [
    {
     "name": "stdout",
     "output_type": "stream",
     "text": [
      "--2017-03-15 14:33:33--  https://www.dropbox.com/sh/z7h50270eckbrd3/AAAmBulcP1UaEYBYyvBKqXSwa?dl=1\r\nResolving www.dropbox.com (www.dropbox.com)... "
     ]
    },
    {
     "name": "stdout",
     "output_type": "stream",
     "text": [
      "162.125.66.1\r\nConnecting to www.dropbox.com (www.dropbox.com)|162.125.66.1|:443... "
     ]
    },
    {
     "name": "stdout",
     "output_type": "stream",
     "text": [
      "connected.\r\n"
     ]
    },
    {
     "name": "stdout",
     "output_type": "stream",
     "text": [
      "HTTP request sent, awaiting response... "
     ]
    },
    {
     "name": "stdout",
     "output_type": "stream",
     "text": [
      "302 Found\r\nLocation: https://dl.dropboxusercontent.com/content_link_zip/bEJQVIppjHiLChCWI7O2ZN0vKgWw7jm4Y2fWBFVvnpvfjbAD0bAVlQDg5205KkGs/file [following]\r\n--2017-03-15 14:33:34--  https://dl.dropboxusercontent.com/content_link_zip/bEJQVIppjHiLChCWI7O2ZN0vKgWw7jm4Y2fWBFVvnpvfjbAD0bAVlQDg5205KkGs/file\r\nResolving dl.dropboxusercontent.com (dl.dropboxusercontent.com)... 162.125.66.6\r\nConnecting to dl.dropboxusercontent.com (dl.dropboxusercontent.com)|162.125.66.6|:443... "
     ]
    },
    {
     "name": "stdout",
     "output_type": "stream",
     "text": [
      "connected.\r\n"
     ]
    },
    {
     "name": "stdout",
     "output_type": "stream",
     "text": [
      "HTTP request sent, awaiting response... "
     ]
    },
    {
     "name": "stdout",
     "output_type": "stream",
     "text": [
      "200 OK\r\nLength: unspecified [application/zip]\r\nSaving to: ‘MNIST_data.zip’\r\n\r\n\rMNIST_data.zip          [<=>                 ]       0  --.-KB/s               "
     ]
    },
    {
     "name": "stdout",
     "output_type": "stream",
     "text": [
      "\rMNIST_data.zip          [ <=>                ] 135,26K   559KB/s               "
     ]
    },
    {
     "name": "stdout",
     "output_type": "stream",
     "text": [
      "\rMNIST_data.zip          [  <=>               ] 439,25K   993KB/s               "
     ]
    },
    {
     "name": "stdout",
     "output_type": "stream",
     "text": [
      "\rMNIST_data.zip          [   <=>              ] 679,24K  1,03MB/s               "
     ]
    },
    {
     "name": "stdout",
     "output_type": "stream",
     "text": [
      "\rMNIST_data.zip          [    <=>             ] 831,26K   927KB/s               "
     ]
    },
    {
     "name": "stdout",
     "output_type": "stream",
     "text": [
      "\rMNIST_data.zip          [     <=>            ] 935,22K   828KB/s               "
     ]
    },
    {
     "name": "stdout",
     "output_type": "stream",
     "text": [
      "\rMNIST_data.zip          [      <=>           ] 983,22K   705KB/s               "
     ]
    },
    {
     "name": "stdout",
     "output_type": "stream",
     "text": [
      "\rMNIST_data.zip          [       <=>          ]   1,01M   642KB/s               "
     ]
    },
    {
     "name": "stdout",
     "output_type": "stream",
     "text": [
      "\rMNIST_data.zip          [        <=>         ]   1,05M   591KB/s               "
     ]
    },
    {
     "name": "stdout",
     "output_type": "stream",
     "text": [
      "\rMNIST_data.zip          [         <=>        ]   1,09M   548KB/s               "
     ]
    },
    {
     "name": "stdout",
     "output_type": "stream",
     "text": [
      "\rMNIST_data.zip          [          <=>       ]   1,18M   537KB/s               "
     ]
    },
    {
     "name": "stdout",
     "output_type": "stream",
     "text": [
      "\rMNIST_data.zip          [           <=>      ]   1,27M   523KB/s               "
     ]
    },
    {
     "name": "stdout",
     "output_type": "stream",
     "text": [
      "\rMNIST_data.zip          [            <=>     ]   1,33M   492KB/s               "
     ]
    },
    {
     "name": "stdout",
     "output_type": "stream",
     "text": [
      "\rMNIST_data.zip          [             <=>    ]   1,40M   464KB/s               "
     ]
    },
    {
     "name": "stdout",
     "output_type": "stream",
     "text": [
      "\rMNIST_data.zip          [              <=>   ]   1,44M   442KB/s               "
     ]
    },
    {
     "name": "stdout",
     "output_type": "stream",
     "text": [
      "\rMNIST_data.zip          [               <=>  ]   1,49M   428KB/s               "
     ]
    },
    {
     "name": "stdout",
     "output_type": "stream",
     "text": [
      "\rMNIST_data.zip          [                <=> ]   1,57M   425KB/s               "
     ]
    },
    {
     "name": "stdout",
     "output_type": "stream",
     "text": [
      "\rMNIST_data.zip          [                 <=>]   1,63M   408KB/s               "
     ]
    },
    {
     "name": "stdout",
     "output_type": "stream",
     "text": [
      "\rMNIST_data.zip          [                <=> ]   1,66M   346KB/s               "
     ]
    },
    {
     "name": "stdout",
     "output_type": "stream",
     "text": [
      "\rMNIST_data.zip          [               <=>  ]   1,68M   295KB/s               "
     ]
    },
    {
     "name": "stdout",
     "output_type": "stream",
     "text": [
      "\rMNIST_data.zip          [              <=>   ]   1,71M   228KB/s               "
     ]
    },
    {
     "name": "stdout",
     "output_type": "stream",
     "text": [
      "\rMNIST_data.zip          [             <=>    ]   1,74M   205KB/s               "
     ]
    },
    {
     "name": "stdout",
     "output_type": "stream",
     "text": [
      "\rMNIST_data.zip          [            <=>     ]   1,77M   193KB/s               "
     ]
    },
    {
     "name": "stdout",
     "output_type": "stream",
     "text": [
      "\rMNIST_data.zip          [           <=>      ]   1,82M   187KB/s               "
     ]
    },
    {
     "name": "stdout",
     "output_type": "stream",
     "text": [
      "\rMNIST_data.zip          [          <=>       ]   1,88M   194KB/s               "
     ]
    },
    {
     "name": "stdout",
     "output_type": "stream",
     "text": [
      "\rMNIST_data.zip          [         <=>        ]   1,98M   203KB/s               "
     ]
    },
    {
     "name": "stdout",
     "output_type": "stream",
     "text": [
      "\rMNIST_data.zip          [        <=>         ]   2,10M   222KB/s               "
     ]
    },
    {
     "name": "stdout",
     "output_type": "stream",
     "text": [
      "\rMNIST_data.zip          [       <=>          ]   2,26M   238KB/s               "
     ]
    },
    {
     "name": "stdout",
     "output_type": "stream",
     "text": [
      "\rMNIST_data.zip          [      <=>           ]   2,40M   248KB/s               "
     ]
    },
    {
     "name": "stdout",
     "output_type": "stream",
     "text": [
      "\rMNIST_data.zip          [     <=>            ]   2,52M   267KB/s               "
     ]
    },
    {
     "name": "stdout",
     "output_type": "stream",
     "text": [
      "\rMNIST_data.zip          [    <=>             ]   2,71M   297KB/s               "
     ]
    },
    {
     "name": "stdout",
     "output_type": "stream",
     "text": [
      "\rMNIST_data.zip          [   <=>              ]   2,93M   348KB/s               "
     ]
    },
    {
     "name": "stdout",
     "output_type": "stream",
     "text": [
      "\rMNIST_data.zip          [  <=>               ]   3,10M   376KB/s               "
     ]
    },
    {
     "name": "stdout",
     "output_type": "stream",
     "text": [
      "\rMNIST_data.zip          [ <=>                ]   3,16M   369KB/s               "
     ]
    },
    {
     "name": "stdout",
     "output_type": "stream",
     "text": [
      "\rMNIST_data.zip          [<=>                 ]   3,26M   383KB/s               "
     ]
    },
    {
     "name": "stdout",
     "output_type": "stream",
     "text": [
      "\rMNIST_data.zip          [ <=>                ]   3,32M   409KB/s               "
     ]
    },
    {
     "name": "stdout",
     "output_type": "stream",
     "text": [
      "\rMNIST_data.zip          [  <=>               ]   3,38M   463KB/s               "
     ]
    },
    {
     "name": "stdout",
     "output_type": "stream",
     "text": [
      "\rMNIST_data.zip          [   <=>              ]   3,48M   487KB/s               "
     ]
    },
    {
     "name": "stdout",
     "output_type": "stream",
     "text": [
      "\rMNIST_data.zip          [    <=>             ]   3,52M   496KB/s               "
     ]
    },
    {
     "name": "stdout",
     "output_type": "stream",
     "text": [
      "\rMNIST_data.zip          [     <=>            ]   3,60M   518KB/s               "
     ]
    },
    {
     "name": "stdout",
     "output_type": "stream",
     "text": [
      "\rMNIST_data.zip          [      <=>           ]   3,69M   523KB/s               "
     ]
    },
    {
     "name": "stdout",
     "output_type": "stream",
     "text": [
      "\rMNIST_data.zip          [       <=>          ]   3,83M   537KB/s               "
     ]
    },
    {
     "name": "stdout",
     "output_type": "stream",
     "text": [
      "\rMNIST_data.zip          [        <=>         ]   4,01M   551KB/s               "
     ]
    },
    {
     "name": "stdout",
     "output_type": "stream",
     "text": [
      "\rMNIST_data.zip          [         <=>        ]   4,21M   558KB/s               "
     ]
    },
    {
     "name": "stdout",
     "output_type": "stream",
     "text": [
      "\rMNIST_data.zip          [          <=>       ]   4,41M   582KB/s               "
     ]
    },
    {
     "name": "stdout",
     "output_type": "stream",
     "text": [
      "\rMNIST_data.zip          [           <=>      ]   4,57M   578KB/s               "
     ]
    },
    {
     "name": "stdout",
     "output_type": "stream",
     "text": [
      "\rMNIST_data.zip          [            <=>     ]   4,73M   569KB/s               "
     ]
    },
    {
     "name": "stdout",
     "output_type": "stream",
     "text": [
      "\rMNIST_data.zip          [             <=>    ]   4,82M   536KB/s               "
     ]
    },
    {
     "name": "stdout",
     "output_type": "stream",
     "text": [
      "\rMNIST_data.zip          [              <=>   ]   4,88M   516KB/s               "
     ]
    },
    {
     "name": "stdout",
     "output_type": "stream",
     "text": [
      "\rMNIST_data.zip          [               <=>  ]   4,93M   497KB/s               "
     ]
    },
    {
     "name": "stdout",
     "output_type": "stream",
     "text": [
      "\rMNIST_data.zip          [                <=> ]   4,99M   495KB/s               "
     ]
    },
    {
     "name": "stdout",
     "output_type": "stream",
     "text": [
      "\rMNIST_data.zip          [                 <=>]   5,08M   508KB/s               "
     ]
    },
    {
     "name": "stdout",
     "output_type": "stream",
     "text": [
      "\rMNIST_data.zip          [                <=> ]   5,16M   501KB/s               "
     ]
    },
    {
     "name": "stdout",
     "output_type": "stream",
     "text": [
      "\rMNIST_data.zip          [               <=>  ]   5,30M   520KB/s               "
     ]
    },
    {
     "name": "stdout",
     "output_type": "stream",
     "text": [
      "\rMNIST_data.zip          [              <=>   ]   5,46M   557KB/s               "
     ]
    },
    {
     "name": "stdout",
     "output_type": "stream",
     "text": [
      "\rMNIST_data.zip          [             <=>    ]   5,60M   572KB/s               "
     ]
    },
    {
     "name": "stdout",
     "output_type": "stream",
     "text": [
      "\rMNIST_data.zip          [            <=>     ]   5,73M   574KB/s               "
     ]
    },
    {
     "name": "stdout",
     "output_type": "stream",
     "text": [
      "\rMNIST_data.zip          [           <=>      ]   5,83M   558KB/s               "
     ]
    },
    {
     "name": "stdout",
     "output_type": "stream",
     "text": [
      "\rMNIST_data.zip          [          <=>       ]   5,96M   530KB/s               "
     ]
    },
    {
     "name": "stdout",
     "output_type": "stream",
     "text": [
      "\rMNIST_data.zip          [         <=>        ]   6,05M   498KB/s               "
     ]
    },
    {
     "name": "stdout",
     "output_type": "stream",
     "text": [
      "\rMNIST_data.zip          [        <=>         ]   6,10M   462KB/s               "
     ]
    },
    {
     "name": "stdout",
     "output_type": "stream",
     "text": [
      "\rMNIST_data.zip          [       <=>          ]   6,18M   453KB/s               "
     ]
    },
    {
     "name": "stdout",
     "output_type": "stream",
     "text": [
      "\rMNIST_data.zip          [      <=>           ]   6,29M   446KB/s               "
     ]
    },
    {
     "name": "stdout",
     "output_type": "stream",
     "text": [
      "\rMNIST_data.zip          [     <=>            ]   6,46M   471KB/s               "
     ]
    },
    {
     "name": "stdout",
     "output_type": "stream",
     "text": [
      "\rMNIST_data.zip          [    <=>             ]   6,65M   505KB/s               "
     ]
    },
    {
     "name": "stdout",
     "output_type": "stream",
     "text": [
      "\rMNIST_data.zip          [   <=>              ]   6,83M   564KB/s               "
     ]
    },
    {
     "name": "stdout",
     "output_type": "stream",
     "text": [
      "\rMNIST_data.zip          [  <=>               ]   7,01M   587KB/s               "
     ]
    },
    {
     "name": "stdout",
     "output_type": "stream",
     "text": [
      "\rMNIST_data.zip          [ <=>                ]   7,07M   588KB/s               "
     ]
    },
    {
     "name": "stdout",
     "output_type": "stream",
     "text": [
      "\rMNIST_data.zip          [<=>                 ]   7,16M   579KB/s               "
     ]
    },
    {
     "name": "stdout",
     "output_type": "stream",
     "text": [
      "\rMNIST_data.zip          [ <=>                ]   7,27M   567KB/s               "
     ]
    },
    {
     "name": "stdout",
     "output_type": "stream",
     "text": [
      "\rMNIST_data.zip          [  <=>               ]   7,41M   564KB/s               "
     ]
    },
    {
     "name": "stdout",
     "output_type": "stream",
     "text": [
      "\rMNIST_data.zip          [   <=>              ]   7,57M   578KB/s               "
     ]
    },
    {
     "name": "stdout",
     "output_type": "stream",
     "text": [
      "\rMNIST_data.zip          [    <=>             ]   7,77M   602KB/s               "
     ]
    },
    {
     "name": "stdout",
     "output_type": "stream",
     "text": [
      "\rMNIST_data.zip          [     <=>            ]   8,01M   638KB/s               "
     ]
    },
    {
     "name": "stdout",
     "output_type": "stream",
     "text": [
      "\rMNIST_data.zip          [      <=>           ]   8,29M   695KB/s               "
     ]
    },
    {
     "name": "stdout",
     "output_type": "stream",
     "text": [
      "\rMNIST_data.zip          [       <=>          ]   8,55M   775KB/s               "
     ]
    },
    {
     "name": "stdout",
     "output_type": "stream",
     "text": [
      "\rMNIST_data.zip          [        <=>         ]   8,66M   763KB/s               "
     ]
    },
    {
     "name": "stdout",
     "output_type": "stream",
     "text": [
      "\rMNIST_data.zip          [         <=>        ]   8,73M   730KB/s               "
     ]
    },
    {
     "name": "stdout",
     "output_type": "stream",
     "text": [
      "\rMNIST_data.zip          [          <=>       ]   8,77M   691KB/s               "
     ]
    },
    {
     "name": "stdout",
     "output_type": "stream",
     "text": [
      "\rMNIST_data.zip          [           <=>      ]   8,82M   650KB/s               "
     ]
    },
    {
     "name": "stdout",
     "output_type": "stream",
     "text": [
      "\rMNIST_data.zip          [            <=>     ]   8,88M   617KB/s               "
     ]
    },
    {
     "name": "stdout",
     "output_type": "stream",
     "text": [
      "\rMNIST_data.zip          [             <=>    ]   8,98M   592KB/s               "
     ]
    },
    {
     "name": "stdout",
     "output_type": "stream",
     "text": [
      "\rMNIST_data.zip          [              <=>   ]   9,07M   609KB/s               "
     ]
    },
    {
     "name": "stdout",
     "output_type": "stream",
     "text": [
      "\rMNIST_data.zip          [               <=>  ]   9,16M   607KB/s               "
     ]
    },
    {
     "name": "stdout",
     "output_type": "stream",
     "text": [
      "\rMNIST_data.zip          [                <=> ]   9,27M   605KB/s               "
     ]
    },
    {
     "name": "stdout",
     "output_type": "stream",
     "text": [
      "\rMNIST_data.zip          [                 <=>]   9,44M   612KB/s               "
     ]
    },
    {
     "name": "stdout",
     "output_type": "stream",
     "text": [
      "\rMNIST_data.zip          [                <=> ]   9,58M   606KB/s               "
     ]
    },
    {
     "name": "stdout",
     "output_type": "stream",
     "text": [
      "\rMNIST_data.zip          [               <=>  ]   9,77M   613KB/s               "
     ]
    },
    {
     "name": "stdout",
     "output_type": "stream",
     "text": [
      "\rMNIST_data.zip          [              <=>   ]   9,96M   585KB/s               "
     ]
    },
    {
     "name": "stdout",
     "output_type": "stream",
     "text": [
      "\rMNIST_data.zip          [             <=>    ]  10,04M   540KB/s               "
     ]
    },
    {
     "name": "stdout",
     "output_type": "stream",
     "text": [
      "\rMNIST_data.zip          [            <=>     ]  10,12M   472KB/s               "
     ]
    },
    {
     "name": "stdout",
     "output_type": "stream",
     "text": [
      "\rMNIST_data.zip          [           <=>      ]  10,21M   465KB/s               "
     ]
    },
    {
     "name": "stdout",
     "output_type": "stream",
     "text": [
      "\rMNIST_data.zip          [          <=>       ]  10,33M   487KB/s               "
     ]
    },
    {
     "name": "stdout",
     "output_type": "stream",
     "text": [
      "\rMNIST_data.zip          [         <=>        ]  10,49M   517KB/s               "
     ]
    },
    {
     "name": "stdout",
     "output_type": "stream",
     "text": [
      "\rMNIST_data.zip          [        <=>         ]  10,63M   565KB/s               "
     ]
    },
    {
     "name": "stdout",
     "output_type": "stream",
     "text": [
      "\rMNIST_data.zip          [       <=>          ]  10,77M   585KB/s               "
     ]
    },
    {
     "name": "stdout",
     "output_type": "stream",
     "text": [
      "\rMNIST_data.zip          [      <=>           ]  10,87M   582KB/s               "
     ]
    },
    {
     "name": "stdout",
     "output_type": "stream",
     "text": [
      "\rMNIST_data.zip          [     <=>            ]  10,94M   570KB/s               "
     ]
    },
    {
     "name": "stdout",
     "output_type": "stream",
     "text": [
      "\rMNIST_data.zip          [    <=>             ]  10,99M   544KB/s               "
     ]
    },
    {
     "name": "stdout",
     "output_type": "stream",
     "text": [
      "\rMNIST_data.zip          [   <=>              ]  11,01M   510KB/s               "
     ]
    },
    {
     "name": "stdout",
     "output_type": "stream",
     "text": [
      "\rMNIST_data.zip          [  <=>               ]  11,04M   458KB/s               "
     ]
    },
    {
     "name": "stdout",
     "output_type": "stream",
     "text": [
      "\rMNIST_data.zip          [ <=>                ]  11,06M   450KB/s    in 24s     \r\n\r\n2017-03-15 14:33:58 (479 KB/s) - ‘MNIST_data.zip’ saved [11598947]\r\n\r\n"
     ]
    },
    {
     "name": "stdout",
     "output_type": "stream",
     "text": [
      "Archive:  MNIST_data.zip\r\nwarning:  stripped absolute path spec from /\r\nmapname:  conversion of  failed\r\nreplace MNIST_data/t10k-images-idx3-ubyte.gz? [y]es, [n]o, [A]ll, [N]one, [r]ename: "
     ]
    },
    {
     "name": "stdout",
     "output_type": "stream",
     "text": [
      "^C\r\n"
     ]
    }
   ],
   "source": [
    "!wget -O MNIST_data.zip https://www.dropbox.com/sh/z7h50270eckbrd3/AAAmBulcP1UaEYBYyvBKqXSwa?dl=1\n",
    "!unzip MNIST_data.zip -d MNIST_data/"
   ]
  },
  {
   "cell_type": "code",
   "execution_count": 1,
   "metadata": {
    "collapsed": false,
    "deletable": true,
    "editable": true
   },
   "outputs": [
    {
     "name": "stdout",
     "output_type": "stream",
     "text": [
      "Extracting MNIST_data/train-images-idx3-ubyte.gz\n"
     ]
    },
    {
     "name": "stdout",
     "output_type": "stream",
     "text": [
      "Extracting MNIST_data/train-labels-idx1-ubyte.gz\nExtracting MNIST_data/t10k-images-idx3-ubyte.gz\nExtracting MNIST_data/t10k-labels-idx1-ubyte.gz\n"
     ]
    }
   ],
   "source": [
    "%matplotlib inline\n",
    "\n",
    "import matplotlib.pyplot as plt\n",
    "import numpy as np\n",
    "import pandas as pd\n",
    "import seaborn as sns\n",
    "# needs tensorflow 1.0\n",
    "\n",
    "from tensorflow.examples.tutorials.mnist import input_data\n",
    "mnist = input_data.read_data_sets(\"MNIST_data/\", one_hot=True)\n",
    "\n",
    "train = mnist.train.next_batch(1000)\n",
    "test = mnist.train.next_batch(1000)"
   ]
  },
  {
   "cell_type": "markdown",
   "metadata": {
    "deletable": true,
    "editable": true
   },
   "source": [
    "Let's take a look at the data. Both train and test are tuples with two numpy array. In the first array you'll find the images (encoded as pixel intensities) and in the second one you'll find the labels (one-hot encoded)."
   ]
  },
  {
   "cell_type": "code",
   "execution_count": 2,
   "metadata": {
    "collapsed": true,
    "deletable": true,
    "editable": true
   },
   "outputs": [],
   "source": [
    "X = train[0]\n",
    "y = train[1]\n",
    "\n",
    "X_test = test[0]\n",
    "y_test = test[1]"
   ]
  },
  {
   "cell_type": "code",
   "execution_count": 3,
   "metadata": {
    "collapsed": true,
    "deletable": true,
    "editable": true
   },
   "outputs": [],
   "source": [
    "# We will store the weights in a D x c matrix, where D is the number of features, and c is the number of classes\n",
    "#weights = (...) # TODO: Fill in, be sure to have the right shape!\n",
    "weights = np.zeros([X.shape[1], 10])\n",
    "\n",
    "\n",
    "def softmax(z):\n",
    "    # z is cases x outs\n",
    "    up = np.exp(z)\n",
    "    down = np.sum(up, axis=1).reshape(-1, 1)\n",
    "    return up / down\n",
    "\n",
    "def almost_equal(a, b):\n",
    "    return a - b < 1e9\n",
    "\n",
    "almost_equal(softmax(np.log(np.array([[1, 2], [3, 4]]))),\n",
    "             np.array([[1./3, 2./3], [3./7, 4./7]]))\n",
    "\n",
    "\n",
    "def predict(weights, X):\n",
    "    return softmax(np.matmul(X, weights))\n",
    "\n",
    "def compute_loss_and_gradients(weights, X, y, l2_reg):\n",
    "    p = predict(weights, X)\n",
    "    masked_loss = -np.log(p) * y\n",
    "    assert sum((masked_loss != 0.).flatten()) == X.shape[0]\n",
    "    loss_per_example = np.sum(masked_loss, axis=1)\n",
    "    loss = np.average(loss_per_example) + l2_reg * np.sum(weights ** 2)\n",
    "    \n",
    "    # p shape [example x class prob]\n",
    "    # y shape [example x class exp. prob]\n",
    "    # X shape [example x features]\n",
    "    grad = np.matmul((p - y).T,X).T / X.shape[0] + l2_reg * 2 * weights\n",
    "    \n",
    "    return loss, grad"
   ]
  },
  {
   "cell_type": "code",
   "execution_count": 4,
   "metadata": {
    "collapsed": false,
    "deletable": true,
    "editable": true
   },
   "outputs": [
    {
     "name": "stdout",
     "output_type": "stream",
     "text": [
      "Accuracy: 0.113\nRow represents real classes - similar to P(y|yreal=row)\n0 1000 000 000 000 000 000 000 000 000 000 \n1 1000 000 000 000 000 000 000 000 000 000 \n2 1000 000 000 000 000 000 000 000 000 000 \n3 1000 000 000 000 000 000 000 000 000 000 \n4 1000 000 000 000 000 000 000 000 000 000 \n5 1000 000 000 000 000 000 000 000 000 000 \n6 1000 000 000 000 000 000 000 000 000 000 \n7 1000 000 000 000 000 000 000 000 000 000 \n8 1000 000 000 000 000 000 000 000 000 000 \n9 1000 000 000 000 000 000 000 000 000 000 \nAccuracy: 0.099\nRow represents real classes - similar to P(y|yreal=row)\n0 1000 000 000 000 000 000 000 000 000 000 \n1 1000 000 000 000 000 000 000 000 000 000 \n2 1000 000 000 000 000 000 000 000 000 000 \n3 1000 000 000 000 000 000 000 000 000 000 \n4 1000 000 000 000 000 000 000 000 000 000 \n5 1000 000 000 000 000 000 000 000 000 000 \n6 1000 000 000 000 000 000 000 000 000 000 \n7 1000 000 000 000 000 000 000 000 000 000 \n8 1000 000 000 000 000 000 000 000 000 000 \n9 1000 000 000 000 000 000 000 000 000 000 \n"
     ]
    }
   ],
   "source": [
    "def conf_matrix(pred_class, real_class, class_no):\n",
    "    print 'Row represents real classes - similar to P(y|yreal=row)'\n",
    "    for real_cl in range(class_no):\n",
    "        row = []\n",
    "        for pred_cl in range(class_no):\n",
    "            cnt = 0\n",
    "            for p, r in zip(pred_class, real_class):\n",
    "                if p == pred_cl and r == real_cl:\n",
    "                    cnt += 1\n",
    "            row.append(cnt)\n",
    "        \n",
    "        print real_cl,\n",
    "        row = np.array(row)\n",
    "        for v in row * 1000 / np.sum(row):\n",
    "            print '%03d' % int(v),\n",
    "        print ''\n",
    "        \n",
    "def check_on_set(X, y, weights):\n",
    "    p = predict(weights, X)\n",
    "    pred_class, real_class = np.argmax(p, axis=1), np.argmax(y, axis=1)\n",
    "    print 'Accuracy:', np.average(pred_class == real_class)\n",
    "    conf_matrix(pred_class, real_class, 10)\n",
    "    \n",
    "check_on_set(X, y, weights)\n",
    "check_on_set(X_test, y_test, weights)"
   ]
  },
  {
   "cell_type": "markdown",
   "metadata": {
    "deletable": true,
    "editable": true
   },
   "source": [
    "We can also visualize the weights learned by our algorithm. Try to anticipate the result before executing the cell below."
   ]
  },
  {
   "cell_type": "code",
   "execution_count": 5,
   "metadata": {
    "collapsed": false,
    "deletable": true,
    "editable": true
   },
   "outputs": [
    {
     "data": {
      "image/png": "[encoded data removed]",
      "text/plain": [
       "<matplotlib.figure.Figure at 0x7fb947e73a90>"
      ]
     },
     "metadata": {},
     "output_type": "display_data"
    }
   ],
   "source": [
    "def plot_w(weights):\n",
    "    fig, subplots = plt.subplots(1, 10)\n",
    "    fig.set_size_inches(10, 10)\n",
    "\n",
    "    for i, s in enumerate(subplots.flatten()):\n",
    "        s.imshow(np.reshape(np.array(weights[:, i]), [28, 28]), cmap='gray')\n",
    "        s.axis('off')\n",
    "        \n",
    "plot_w(weights)"
   ]
  },
  {
   "cell_type": "markdown",
   "metadata": {
    "collapsed": true,
    "deletable": true,
    "editable": true
   },
   "source": [
    "Note that we only used a small portion of the data to develop the model. Now, implement the training on full data. \n",
    "Make sure to leverage the `mnist.train.next_batch(...)` method. Also, validate your model properly and find a good value for `l2_reg` hyperparameter. Try to experiment with `batch_size`."
   ]
  },
  {
   "cell_type": "code",
   "execution_count": 7,
   "metadata": {
    "collapsed": true,
    "deletable": true,
    "editable": true
   },
   "outputs": [
    {
     "data": {
      "text/plain": [
       "<matplotlib.collections.PathCollection at 0x7fb9448a50d0>"
      ]
     },
     "execution_count": 7,
     "metadata": {},
     "output_type": "execute_result"
    },
    {
     "data": {
      "image/png": "[encoded data removed]",
      "text/plain": [
       "<matplotlib.figure.Figure at 0x7fb944957410>"
      ]
     },
     "metadata": {},
     "output_type": "display_data"
    }
   ],
   "source": [
    "X_val, y_val = mnist.validation.next_batch(2000)\n",
    "\n",
    "def train_mnist(l2_reg = 0.0, n_epochs = 300, lr = 0.45, batch_sz = 50):\n",
    "    weights = np.zeros([28**2, 10])\n",
    "    losses = []\n",
    "    for i in range(n_epochs):\n",
    "        batch = mnist.train.next_batch(batch_sz)\n",
    "        loss, grad = compute_loss_and_gradients(weights, batch[0], batch[1], l2_reg)\n",
    "        losses.append(loss)\n",
    "        \n",
    "        weights -= lr * grad\n",
    "        \n",
    "    p = predict(weights, X_val)\n",
    "    pred_class, real_class = np.argmax(p, axis=1), np.argmax(y_val, axis=1)\n",
    "    return weights, np.average(pred_class == real_class)\n",
    " \n",
    "par_val, accs = [], []\n",
    "for par in np.exp(np.linspace(np.log(0.3), np.log(0.7), 2)):\n",
    "    par_val.append(par)\n",
    "    weights, acc = train_mnist(lr=par)\n",
    "    accs.append(acc)\n",
    "plt.scatter(par_val, accs)"
   ]
  },
  {
   "cell_type": "code",
   "execution_count": 52,
   "metadata": {},
   "outputs": [
    {
     "name": "stdout",
     "output_type": "stream",
     "text": [
      "valacc 0.922\nAccuracy: 0.9004\nRow represents real classes - similar to P(y|yreal=row)\n0 976 000 005 003 000 000 009 001 005 000 \n1 000 969 002 004 000 000 003 001 017 000 \n2 007 001 878 015 015 002 011 018 045 001 \n3 003 000 021 908 000 019 003 016 021 001 \n"
     ]
    },
    {
     "name": "stdout",
     "output_type": "stream",
     "text": [
      "4 002 004 006 002 939 000 012 003 012 018 \n5 016 003 008 062 012 803 016 015 052 006 \n6 008 003 007 002 013 007 951 002 004 000 \n7 003 011 031 004 006 000 000 930 002 007 \n8 009 007 012 032 008 019 012 021 875 001 \n9 011 006 010 020 077 009 000 094 014 753 \n"
     ]
    }
   ],
   "source": [
    "weights, val_acc = train_mnist()\n",
    "print 'valacc', val_acc\n",
    "X_test, y_test = mnist.test.next_batch(10000)\n",
    "check_on_set(X_test, y_test, weights)"
   ]
  },
  {
   "cell_type": "code",
   "execution_count": null,
   "metadata": {},
   "outputs": [],
   "source": [
    ""
   ]
  }
 ],
 "metadata": {
  "kernelspec": {
   "display_name": "Python 2",
   "language": "python",
   "name": "python2"
  },
  "language_info": {
   "codemirror_mode": {
    "name": "ipython",
    "version": 2.0
   },
   "file_extension": ".py",
   "mimetype": "text/x-python",
   "name": "python",
   "nbconvert_exporter": "python",
   "pygments_lexer": "ipython2",
   "version": "2.7.13"
  }
 },
 "nbformat": 4,
 "nbformat_minor": 0
}