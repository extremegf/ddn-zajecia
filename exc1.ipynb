{
 "cells": [
  {
   "cell_type": "code",
   "execution_count": 4,
   "metadata": {
    "collapsed": false
   },
   "outputs": [],
   "source": [
    "%matplotlib inline\n",
    "import tensorflow as tf\n",
    "import numpy as np\n",
    "import matplotlib.pyplot as plt\n",
    "import seaborn"
   ]
  },
  {
   "cell_type": "markdown",
   "metadata": {},
   "source": [
    "Example: Create a graph that will compute elementwise sum of two input vectors"
   ]
  },
  {
   "cell_type": "code",
   "execution_count": 2,
   "metadata": {
    "collapsed": false
   },
   "outputs": [
    {
     "name": "stdout",
     "output_type": "stream",
     "text": [
      "[ 1.  2.]\n"
     ]
    }
   ],
   "source": [
    "tf.reset_default_graph()\n",
    "a_value = [0.0, 1.0]\n",
    "b_value = [1.0, 1.0]\n",
    "a = tf.placeholder(dtype=tf.float32, name='a')\n",
    "b = tf.placeholder(dtype=tf.float32, name='b')\n",
    "c = a + b\n",
    "with tf.Session() as sess:\n",
    "    print sess.run(c, feed_dict={a: a_value, b: b_value })"
   ]
  },
  {
   "cell_type": "markdown",
   "metadata": {},
   "source": [
    "Task 1. Create a graph that will compute dot product of two input vectors"
   ]
  },
  {
   "cell_type": "code",
   "execution_count": 4,
   "metadata": {
    "collapsed": false
   },
   "outputs": [
    {
     "name": "stdout",
     "output_type": "stream",
     "text": [
      "[ 9.  3.]\n"
     ]
    }
   ],
   "source": [
    "tf.reset_default_graph()\n",
    "a_value = [3.0, 1.0]\n",
    "b_value = [3.0, 3.0]\n",
    "a = tf.placeholder(dtype=tf.float32)\n",
    "b = tf.placeholder(dtype=tf.float32)\n",
    "dotpr = a * b\n",
    "with tf.Session() as sess:\n",
    "    print sess.run(dotpr, feed_dict={a: a_value, b: b_value })"
   ]
  },
  {
   "cell_type": "markdown",
   "metadata": {
    "collapsed": true
   },
   "source": [
    "Task 2. Create a graph that given matrix $A$, returns a vector with sums over the second dimension."
   ]
  },
  {
   "cell_type": "code",
   "execution_count": 7,
   "metadata": {
    "collapsed": false
   },
   "outputs": [
    {
     "name": "stdout",
     "output_type": "stream",
     "text": [
      "[  6.  18.   6.]\n"
     ]
    }
   ],
   "source": [
    "tf.reset_default_graph()\n",
    "a_value = [\n",
    "    [3.0, 1.0, 2.0],\n",
    "    [1.0, 13.0, 4.0],\n",
    "    [3.0, 1.0, 2.0]\n",
    "    ]\n",
    "    \n",
    "a = tf.placeholder(dtype=tf.float32)\n",
    "sum_ov_sec = tf.reduce_sum(a, reduction_indices=[1])\n",
    "with tf.Session() as sess:\n",
    "    print sess.run(sum_ov_sec, feed_dict={a: a_value})"
   ]
  },
  {
   "cell_type": "markdown",
   "metadata": {
    "collapsed": false
   },
   "source": [
    "Task 3. Apply relu, sigmoid, tanh to x"
   ]
  },
  {
   "cell_type": "code",
   "execution_count": 10,
   "metadata": {
    "collapsed": false
   },
   "outputs": [
    {
     "data": {
      "image/png": "[encoded data removed]",
      "text/plain": [
       "<matplotlib.figure.Figure at 0x7f56eee89090>"
      ]
     },
     "metadata": {},
     "output_type": "display_data"
    }
   ],
   "source": [
    "from tensorflow.python.ops.gen_nn_ops import relu, softplus\n",
    "from tensorflow.python.ops.math_ops import sigmoid, tanh\n",
    "\n",
    "x_value = np.linspace(-10., 10., 1000)\n",
    "\n",
    "x = tf.placeholder(dtype=tf.float32)\n",
    "relu = relu(x)\n",
    "sigmoid = sigmoid(x)\n",
    "tanh = tanh(x)\n",
    "softplus = softplus(x)\n",
    "\n",
    "with tf.Session() as sess:\n",
    "    feed_dict = {x: x_value}\n",
    "    _relu, _sigmoid, _tanh, _softplus = sess.run([relu, sigmoid, tanh, softplus], feed_dict)\n",
    "    plt.plot(x_value, _relu, label='relu')\n",
    "    plt.plot(x_value, _sigmoid, label='sigmoid')\n",
    "    plt.plot(x_value, _tanh, label='tanh')\n",
    "    plt.plot(x_value, _softplus, label='softplus')\n",
    "    plt.legend(bbox_to_anchor=(0.5, 1.0))\n",
    "    plt.show()"
   ]
  },
  {
   "cell_type": "markdown",
   "metadata": {
    "collapsed": true
   },
   "source": [
    "Task 4. Create operation to decrease variable $a$ by one"
   ]
  },
  {
   "cell_type": "code",
   "execution_count": 11,
   "metadata": {
    "collapsed": false
   },
   "outputs": [
    {
     "name": "stdout",
     "output_type": "stream",
     "text": [
      "9\n8\n7\n6\n5\n4\n3\n2\n1\n0\n"
     ]
    }
   ],
   "source": [
    "a = tf.Variable(10, dtype=tf.int32, name='a')\n",
    "\n",
    "decrese_op = tf.assign(a, a - 1)\n",
    "\n",
    "with tf.Session() as sess:\n",
    "    sess.run(tf.global_variables_initializer())\n",
    "    for _ in xrange(10):\n",
    "        sess.run(decrese_op)\n",
    "        a_value = sess.run(a)\n",
    "        print a_value"
   ]
  },
  {
   "cell_type": "markdown",
   "metadata": {},
   "source": [
    "Task 5. Create operation that returns the shape of the input."
   ]
  },
  {
   "cell_type": "code",
   "execution_count": 15,
   "metadata": {
    "collapsed": false
   },
   "outputs": [
    {
     "name": "stdout",
     "output_type": "stream",
     "text": [
      "[3 4]\n"
     ]
    }
   ],
   "source": [
    "tf.reset_default_graph()\n",
    "a_value = [\n",
    "    [3, 7, 2, 1],\n",
    "    [1, 1, 4, 5],\n",
    "    [3, 6, 2, 2],\n",
    "    ]\n",
    "a = tf.placeholder(dtype=tf.int32)\n",
    "\n",
    "with tf.Session() as sess:\n",
    "    print sess.run(tf.shape(a), feed_dict={a: a_value})"
   ]
  },
  {
   "cell_type": "markdown",
   "metadata": {
    "collapsed": true
   },
   "source": [
    "Task 6. Create operation to get the first half of r-th row and second half of c-th column of the matrix. (Assume matrix has even dimensions)."
   ]
  },
  {
   "cell_type": "code",
   "execution_count": 24,
   "metadata": {
    "collapsed": false
   },
   "outputs": [
    {
     "name": "stdout",
     "output_type": "stream",
     "text": [
      "[array([3, 6], dtype=int32), array([6, 1], dtype=int32)]\n"
     ]
    }
   ],
   "source": [
    "tf.reset_default_graph()\n",
    "a_value = [\n",
    "    [3, 7, 2, 1],\n",
    "    [1, 1, 4, 5],\n",
    "    [3, 6, 2, 2],\n",
    "    [6, 1, 1, 3],\n",
    "    ]\n",
    "\n",
    "r_value = 2\n",
    "c_value = 1\n",
    "    \n",
    "a = tf.placeholder(dtype=tf.int32)\n",
    "r = tf.placeholder(dtype=tf.int32)\n",
    "c = tf.placeholder(dtype=tf.int32)\n",
    "\n",
    "a_rows, = tf.shape(a)[0]  = tf.shape(a)[1]\n",
    "\n",
    "with tf.Session() as sess:\n",
    "    print sess.run(\n",
    "        [\n",
    "            a[r,:a_cols / 2],\n",
    "            a[a_rows / 2:,c]\n",
    "        ],\n",
    "        feed_dict = {a: a_value, r: r_value, c: c_value}\n",
    "    )"
   ]
  },
  {
   "cell_type": "markdown",
   "metadata": {},
   "source": [
    "Task 7. Create operation that returns coordinates of the maximal element in the matrix. "
   ]
  },
  {
   "cell_type": "code",
   "execution_count": 5,
   "metadata": {
    "collapsed": false
   },
   "outputs": [
    {
     "name": "stdout",
     "output_type": "stream",
     "text": [
      "[2, 3]\n"
     ]
    }
   ],
   "source": [
    "tf.reset_default_graph()\n",
    "a_value = [\n",
    "    [3, 7, 2, 1],\n",
    "    [1, 1, 14, 5],\n",
    "    [3, 6, 2, 17],\n",
    "    [6, 9, 1, 3],\n",
    "    ]\n",
    "\n",
    "a = tf.placeholder(dtype=tf.int32)\n",
    "mrow = tf.argmax(tf.reduce_max(a, 1), 0)\n",
    "mcol = tf.argmax(tf.reduce_max(a, 0), 0)\n",
    "\n",
    "with tf.Session() as sess:\n",
    "    print sess.run([mrow, mcol], feed_dict={a: a_value})"
   ]
  }
 ],
 "metadata": {
  "kernelspec": {
   "display_name": "Python 2",
   "language": "python",
   "name": "python2"
  },
  "language_info": {
   "codemirror_mode": {
    "name": "ipython",
    "version": 2.0
   },
   "file_extension": ".py",
   "mimetype": "text/x-python",
   "name": "python",
   "nbconvert_exporter": "python",
   "pygments_lexer": "ipython2",
   "version": "2.7.12"
  }
 },
 "nbformat": 4,
 "nbformat_minor": 0
}